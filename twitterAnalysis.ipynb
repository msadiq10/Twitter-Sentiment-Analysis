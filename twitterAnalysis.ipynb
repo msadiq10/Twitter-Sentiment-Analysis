{
 "cells": [
  {
   "attachments": {},
   "cell_type": "markdown",
   "metadata": {},
   "source": [
    "# Necessary installations"
   ]
  },
  {
   "cell_type": "code",
   "execution_count": 3,
   "metadata": {},
   "outputs": [
    {
     "name": "stdout",
     "output_type": "stream",
     "text": [
      "Requirement already satisfied: tweepy in c:\\users\\sadiq\\anaconda3\\envs\\tensorproject\\lib\\site-packages (4.12.1)\n",
      "Requirement already satisfied: requests-oauthlib<2,>=1.2.0 in c:\\users\\sadiq\\anaconda3\\envs\\tensorproject\\lib\\site-packages (from tweepy) (1.3.1)\n",
      "Requirement already satisfied: oauthlib<4,>=3.2.0 in c:\\users\\sadiq\\anaconda3\\envs\\tensorproject\\lib\\site-packages (from tweepy) (3.2.1)\n",
      "Requirement already satisfied: requests<3,>=2.27.0 in c:\\users\\sadiq\\anaconda3\\envs\\tensorproject\\lib\\site-packages (from tweepy) (2.28.1)\n",
      "Requirement already satisfied: urllib3<1.27,>=1.21.1 in c:\\users\\sadiq\\anaconda3\\envs\\tensorproject\\lib\\site-packages (from requests<3,>=2.27.0->tweepy) (1.26.12)\n",
      "Requirement already satisfied: charset-normalizer<3,>=2 in c:\\users\\sadiq\\anaconda3\\envs\\tensorproject\\lib\\site-packages (from requests<3,>=2.27.0->tweepy) (2.1.1)\n",
      "Requirement already satisfied: certifi>=2017.4.17 in c:\\users\\sadiq\\anaconda3\\envs\\tensorproject\\lib\\site-packages (from requests<3,>=2.27.0->tweepy) (2022.9.14)\n",
      "Requirement already satisfied: idna<4,>=2.5 in c:\\users\\sadiq\\anaconda3\\envs\\tensorproject\\lib\\site-packages (from requests<3,>=2.27.0->tweepy) (3.4)\n",
      "Collecting python-dotenv\n",
      "  Downloading python_dotenv-1.0.0-py3-none-any.whl (19 kB)\n",
      "Installing collected packages: python-dotenv\n",
      "Successfully installed python-dotenv-1.0.0\n"
     ]
    }
   ],
   "source": [
    "! pip install tweepy\n",
    "! pip install python-dotenv"
   ]
  },
  {
   "attachments": {},
   "cell_type": "markdown",
   "metadata": {},
   "source": [
    "# Import necessary libraries"
   ]
  },
  {
   "cell_type": "code",
   "execution_count": 1,
   "metadata": {},
   "outputs": [],
   "source": [
    "import os\n",
    "import tweepy\n",
    "from dotenv import load_dotenv"
   ]
  },
  {
   "attachments": {},
   "cell_type": "markdown",
   "metadata": {},
   "source": [
    "# Load environment variables from the .env file"
   ]
  },
  {
   "cell_type": "code",
   "execution_count": 2,
   "metadata": {},
   "outputs": [
    {
     "data": {
      "text/plain": [
       "True"
      ]
     },
     "execution_count": 2,
     "metadata": {},
     "output_type": "execute_result"
    }
   ],
   "source": [
    "load_dotenv()"
   ]
  },
  {
   "attachments": {},
   "cell_type": "markdown",
   "metadata": {},
   "source": [
    "# Accessing Twitter API using Tweepy"
   ]
  },
  {
   "cell_type": "code",
   "execution_count": 3,
   "metadata": {},
   "outputs": [],
   "source": [
    "consumer_key = os.environ[\"API_KEY\"]\n",
    "consumer_secret = os.environ[\"API_KEY_SECRET\"]\n",
    "access_token = os.environ[\"ACCESS_TOKEN\"]\n",
    "access_token_secret = os.environ[\"ACCESS_TOKEN_SECRET\"]\n",
    "\n",
    "auth = tweepy.OAuth1UserHandler(\n",
    "    consumer_key,\n",
    "    consumer_secret,\n",
    "    access_token,\n",
    "    access_token_secret\n",
    ")\n",
    "\n",
    "api = tweepy.API(auth)"
   ]
  },
  {
   "cell_type": "code",
   "execution_count": 41,
   "metadata": {},
   "outputs": [],
   "source": [
    "fetched_tweets1 = api.search_tweets(q = 'Technology and Innovation in UAE', count=100, tweet_mode=\"extended\")\n",
    "fetched_tweets2 = api.search_tweets(q = 'Meta Verse in UAE', count=100, tweet_mode=\"extended\")\n",
    "fetched_tweets3 = api.search_tweets(q = 'Innovation in UAE', count=100, tweet_mode=\"extended\")\n",
    "fetched_tweets4 = api.search_tweets(q = 'Technology Footprint in UAE', count=100, tweet_mode=\"extended\")\n",
    "fetched_tweets5 = api.search_tweets(q = 'Artificial Intelligence in UAE', count=100, tweet_mode=\"extended\")\n",
    "fetched_tweets6 = api.search_tweets(q = 'Museum of the Future', count=100, tweet_mode=\"extended\")\n",
    "fetched_tweets7 = api.search_tweets(q = 'Facial emotion recognition in UAE', count=100, tweet_mode=\"extended\")\n",
    "fetched_tweets8 = api.search_tweets(q = 'Autonomous cars in UAE', count=100, tweet_mode=\"extended\")\n",
    "fetched_tweets9 = api.search_tweets(q = 'Expo 2020', count=100, tweet_mode=\"extended\")\n",
    "fetched_tweets10 = api.search_tweets(q = 'ChatGPT in UAE', count=100, tweet_mode=\"extended\")\n",
    "fetched_tweets11 = api.search_tweets(q = 'Solar power in UAE', count=100, tweet_mode=\"extended\")\n",
    "fetched_tweets12 = api.search_tweets(q = 'Automation in UAE', count=100, tweet_mode=\"extended\")\n",
    "fetched_tweets13 = api.search_tweets(q = 'Robotics in UAE', count=100, tweet_mode=\"extended\")\n",
    "fetched_tweets14 = api.search_tweets(q = 'Machine learning in UAE', count=100, tweet_mode=\"extended\")\n",
    "fetched_tweets15 = api.search_tweets(q = 'NLP in UAE', count=100, tweet_mode=\"extended\")\n",
    "fetched_tweets16 = api.search_tweets(q = 'Machine learning in UAE', count=100, tweet_mode=\"extended\")\n",
    "fetched_tweets17 = api.search_tweets(q = 'Computer Vision in UAE', count=100, tweet_mode=\"extended\")\n",
    "fetched_tweets18 = api.search_tweets(q = 'Abu Dhabi G42', count=100, tweet_mode=\"extended\")\n",
    "fetched_tweets19 = api.search_tweets(q = 'chatbot in UAE', count=100, tweet_mode=\"extended\")\n",
    "fetched_tweets20 = api.search_tweets(q = 'Virtual Reality in UAE', count=100, tweet_mode=\"extended\")\n",
    "fetched_tweets21 = api.search_tweets(q = 'Augmented Reality in UAE', count=100, tweet_mode=\"extended\")\n",
    "fetched_tweets22 = api.search_tweets(q = 'Mixed Reality in UAE', count=100, tweet_mode=\"extended\")\n",
    "fetched_tweets23 = api.search_tweets(q = 'Extended Reality in UAE', count=100, tweet_mode=\"extended\")\n",
    "fetched_tweets24 = api.search_tweets(q = 'Green Technology in UAE', count=100, tweet_mode=\"extended\")\n",
    "fetched_tweets25 = api.search_tweets(q = 'Quantum Computing in UAE', count=100, tweet_mode=\"extended\")\n",
    "fetched_tweets26 = api.search_tweets(q = 'Cloud Computing in UAE', count=100, tweet_mode=\"extended\")\n",
    "fetched_tweets27 = api.search_tweets(q = 'Genomics in UAE', count=100, tweet_mode=\"extended\")\n",
    "fetched_tweets28 = api.search_tweets(q = 'Datafication in UAE', count=100, tweet_mode=\"extended\")\n",
    "fetched_tweets29 = api.search_tweets(q = 'Cyber Security in UAE', count=100, tweet_mode=\"extended\")\n",
    "fetched_tweets30 = api.search_tweets(q = 'Blockchain in UAE', count=100, tweet_mode=\"extended\")\n",
    "fetched_tweets31 = api.search_tweets(q = 'Deep Learning in UAE', count=100, tweet_mode=\"extended\")\n",
    "fetched_tweets32 = api.search_tweets(q = 'Neurotechnology in UAE', count=100, tweet_mode=\"extended\")\n",
    "fetched_tweets33 = api.search_tweets(q = 'Self driving in UAE', count=100, tweet_mode=\"extended\")\n",
    "fetched_tweets34 = api.search_tweets(q = 'Virtual Reality', count=100, tweet_mode=\"extended\")\n",
    "fetched_tweets35 = api.search_tweets(q = 'Artificial Intelligence', count=100, tweet_mode=\"extended\")\n",
    "fetched_tweets36 = api.search_tweets(q = 'Machine Learning', count=100, tweet_mode=\"extended\")\n",
    "fetched_tweets37 = api.search_tweets(q = 'Deep Learning', count=100, tweet_mode=\"extended\")\n",
    "fetched_tweets38 = api.search_tweets(q = 'Robotics', count=100, tweet_mode=\"extended\")\n"
   ]
  },
  {
   "cell_type": "code",
   "execution_count": 53,
   "metadata": {},
   "outputs": [
    {
     "data": {
      "text/plain": [
       "1184"
      ]
     },
     "execution_count": 53,
     "metadata": {},
     "output_type": "execute_result"
    }
   ],
   "source": [
    "tweets = []\n",
    "for t1 in fetched_tweets1:\n",
    "    tweets.append(t1.full_text)\n",
    "\n",
    "for t2 in fetched_tweets2:\n",
    "    tweets.append(t2.full_text)\n",
    "\n",
    "for t3 in fetched_tweets3:\n",
    "    tweets.append(t3.full_text)\n",
    "\n",
    "for t4 in fetched_tweets4:\n",
    "    tweets.append(t4.full_text)\n",
    "\n",
    "for t5 in fetched_tweets5:\n",
    "    tweets.append(t5.full_text)\n",
    "\n",
    "for t6 in fetched_tweets6:\n",
    "    tweets.append(t6.full_text)\n",
    "\n",
    "for t7 in fetched_tweets7:\n",
    "    tweets.append(t7.full_text)\n",
    "\n",
    "for t8 in fetched_tweets8:\n",
    "    tweets.append(t8.full_text)\n",
    "\n",
    "for t9 in fetched_tweets9:\n",
    "    tweets.append(t9.full_text)\n",
    "\n",
    "for t10 in fetched_tweets10:\n",
    "    tweets.append(t10.full_text)\n",
    "\n",
    "for t11 in fetched_tweets11:\n",
    "    tweets.append(t11.full_text)\n",
    "\n",
    "for t12 in fetched_tweets12:\n",
    "    tweets.append(t12.full_text)\n",
    "\n",
    "for t13 in fetched_tweets13:\n",
    "    tweets.append(t13.full_text)\n",
    "\n",
    "for t14 in fetched_tweets14:\n",
    "    tweets.append(t14.full_text)\n",
    "\n",
    "for t15 in fetched_tweets15:\n",
    "    tweets.append(t15.full_text)\n",
    "\n",
    "for t16 in fetched_tweets16:\n",
    "    tweets.append(t16.full_text)\n",
    "\n",
    "for t17 in fetched_tweets17:\n",
    "    tweets.append(t17.full_text)\n",
    "\n",
    "for t18 in fetched_tweets18:\n",
    "    tweets.append(t18.full_text)\n",
    "\n",
    "for t19 in fetched_tweets19:\n",
    "    tweets.append(t19.full_text)\n",
    "\n",
    "for t20 in fetched_tweets20:\n",
    "    tweets.append(t20.full_text)\n",
    "\n",
    "for t21 in fetched_tweets21:\n",
    "    tweets.append(t21.full_text)\n",
    "\n",
    "for t22 in fetched_tweets22:\n",
    "    tweets.append(t22.full_text)\n",
    "\n",
    "for t23 in fetched_tweets23:\n",
    "    tweets.append(t23.full_text)\n",
    "\n",
    "for t24 in fetched_tweets24:\n",
    "    tweets.append(t24.full_text)\n",
    "\n",
    "for t25 in fetched_tweets25:\n",
    "    tweets.append(t25.full_text)\n",
    "\n",
    "for t26 in fetched_tweets26:\n",
    "    tweets.append(t26.full_text)\n",
    "\n",
    "for t27 in fetched_tweets27:\n",
    "    tweets.append(t27.full_text)\n",
    "\n",
    "for t28 in fetched_tweets28:\n",
    "    tweets.append(t28.full_text)\n",
    "\n",
    "for t29 in fetched_tweets29:\n",
    "    tweets.append(t29.full_text)\n",
    "\n",
    "for t30 in fetched_tweets30:\n",
    "    tweets.append(t30.full_text)\n",
    "\n",
    "for t31 in fetched_tweets31:\n",
    "    tweets.append(t31.full_text)\n",
    "\n",
    "for t32 in fetched_tweets32:\n",
    "    tweets.append(t32.full_text)\n",
    "\n",
    "for t33 in fetched_tweets33:\n",
    "    tweets.append(t33.full_text)\n",
    "\n",
    "for t34 in fetched_tweets34:\n",
    "    tweets.append(t34.full_text)\n",
    "\n",
    "for t35 in fetched_tweets35:\n",
    "    tweets.append(t35.full_text)\n",
    "\n",
    "for t36 in fetched_tweets36:\n",
    "    tweets.append(t36.full_text)\n",
    "\n",
    "for t37 in fetched_tweets37:\n",
    "    tweets.append(t37.full_text)\n",
    "\n",
    "for t38 in fetched_tweets38:\n",
    "    tweets.append(t38.full_text)\n",
    "\n",
    "len(tweets)"
   ]
  },
  {
   "cell_type": "code",
   "execution_count": 54,
   "metadata": {},
   "outputs": [],
   "source": [
    "f = open(\"tweets.txt\", \"a\")\n",
    "tweet_counter = 0\n",
    "for tweet in tweets:\n",
    "    tweet_counter = tweet_counter + 1\n",
    "    f.write('Tweet no.: ' + str(tweet_counter) + ' ' + str(tweet) + '\\n')\n",
    "f.close()"
   ]
  },
  {
   "attachments": {},
   "cell_type": "markdown",
   "metadata": {},
   "source": [
    "# Fetch tweets"
   ]
  }
 ],
 "metadata": {
  "kernelspec": {
   "display_name": "tensorProject",
   "language": "python",
   "name": "python3"
  },
  "language_info": {
   "codemirror_mode": {
    "name": "ipython",
    "version": 3
   },
   "file_extension": ".py",
   "mimetype": "text/x-python",
   "name": "python",
   "nbconvert_exporter": "python",
   "pygments_lexer": "ipython3",
   "version": "3.9.13"
  },
  "orig_nbformat": 4
 },
 "nbformat": 4,
 "nbformat_minor": 2
}
