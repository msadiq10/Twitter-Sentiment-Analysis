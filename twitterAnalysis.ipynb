{
 "cells": [
  {
   "attachments": {},
   "cell_type": "markdown",
   "metadata": {},
   "source": [
    "# Necessary installations"
   ]
  },
  {
   "cell_type": "code",
   "execution_count": 1,
   "metadata": {},
   "outputs": [
    {
     "name": "stdout",
     "output_type": "stream",
     "text": [
      "Collecting tweepy\n",
      "  Downloading tweepy-4.12.1-py3-none-any.whl (101 kB)\n",
      "     -------------------------------------- 101.6/101.6 kB 5.7 MB/s eta 0:00:00\n",
      "Requirement already satisfied: requests-oauthlib<2,>=1.2.0 in c:\\users\\sadiq\\anaconda3\\envs\\tensorproject\\lib\\site-packages (from tweepy) (1.3.1)\n",
      "Requirement already satisfied: oauthlib<4,>=3.2.0 in c:\\users\\sadiq\\anaconda3\\envs\\tensorproject\\lib\\site-packages (from tweepy) (3.2.1)\n",
      "Requirement already satisfied: requests<3,>=2.27.0 in c:\\users\\sadiq\\anaconda3\\envs\\tensorproject\\lib\\site-packages (from tweepy) (2.28.1)\n",
      "Requirement already satisfied: urllib3<1.27,>=1.21.1 in c:\\users\\sadiq\\anaconda3\\envs\\tensorproject\\lib\\site-packages (from requests<3,>=2.27.0->tweepy) (1.26.12)\n",
      "Requirement already satisfied: certifi>=2017.4.17 in c:\\users\\sadiq\\anaconda3\\envs\\tensorproject\\lib\\site-packages (from requests<3,>=2.27.0->tweepy) (2022.9.14)\n",
      "Requirement already satisfied: charset-normalizer<3,>=2 in c:\\users\\sadiq\\anaconda3\\envs\\tensorproject\\lib\\site-packages (from requests<3,>=2.27.0->tweepy) (2.1.1)\n",
      "Requirement already satisfied: idna<4,>=2.5 in c:\\users\\sadiq\\anaconda3\\envs\\tensorproject\\lib\\site-packages (from requests<3,>=2.27.0->tweepy) (3.4)\n",
      "Installing collected packages: tweepy\n",
      "Successfully installed tweepy-4.12.1\n"
     ]
    }
   ],
   "source": [
    "! pip install tweepy"
   ]
  }
 ],
 "metadata": {
  "kernelspec": {
   "display_name": "tensorProject",
   "language": "python",
   "name": "python3"
  },
  "language_info": {
   "codemirror_mode": {
    "name": "ipython",
    "version": 3
   },
   "file_extension": ".py",
   "mimetype": "text/x-python",
   "name": "python",
   "nbconvert_exporter": "python",
   "pygments_lexer": "ipython3",
   "version": "3.9.13"
  },
  "orig_nbformat": 4
 },
 "nbformat": 4,
 "nbformat_minor": 2
}
